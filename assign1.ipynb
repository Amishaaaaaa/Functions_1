{
 "cells": [
  {
   "cell_type": "code",
   "execution_count": 10,
   "id": "2283c4bf-61cb-42a5-aa67-4740eb7f3046",
   "metadata": {},
   "outputs": [
    {
     "data": {
      "text/plain": [
       "[1, 3, 5, 7, 9, 11, 13, 15, 17, 19, 21, 23, 25]"
      ]
     },
     "execution_count": 10,
     "metadata": {},
     "output_type": "execute_result"
    }
   ],
   "source": [
    "#Which keyword is used to create a function? Create a function to return a list of odd numbers in the range of 1 to 25.\n",
    "\n",
    "'''def keyword is used to create a function.'''\n",
    "def odd():\n",
    "    l=[]\n",
    "    for i in range(1,26):\n",
    "        if i%2!=0:\n",
    "            l.append(i)\n",
    "    return l\n",
    "odd()"
   ]
  },
  {
   "cell_type": "code",
   "execution_count": null,
   "id": "cf5530f8-2e28-456f-9c76-cdfcb16c653b",
   "metadata": {},
   "outputs": [],
   "source": []
  },
  {
   "cell_type": "code",
   "execution_count": 20,
   "id": "f755f31e-f272-4c85-855c-acf088210620",
   "metadata": {},
   "outputs": [
    {
     "name": "stdout",
     "output_type": "stream",
     "text": [
      "2\n",
      "5\n",
      "8\n",
      "2\n",
      "0\n"
     ]
    },
    {
     "data": {
      "text/plain": [
       "{'a': 3, 'b': 'amisha', 'c': 'hi'}"
      ]
     },
     "execution_count": 20,
     "metadata": {},
     "output_type": "execute_result"
    }
   ],
   "source": [
    "#Why *args and **kwargs is used in some functions? Create a function each for *args and **kwargs to demonstrate their use.\n",
    "\n",
    "''' *args is used if we want variable number of arguments in the function definition.\n",
    "**kwargs is used if want output of the function in the form of a dictionary.'''\n",
    "\n",
    "#for *args\n",
    "def argss(*args):\n",
    "    for i in args:\n",
    "        yield i\n",
    "for i in argss(2,5,8,2,0):\n",
    "    print(i)\n",
    "    \n",
    "#for **kwargs\n",
    "def kwargss(**kwargs):\n",
    "    return kwargs\n",
    "kwargss(a=3,b='amisha',c='hi')"
   ]
  },
  {
   "cell_type": "code",
   "execution_count": null,
   "id": "294e5744-3b61-452d-99c8-088916e049a9",
   "metadata": {},
   "outputs": [],
   "source": []
  },
  {
   "cell_type": "code",
   "execution_count": 36,
   "id": "91b861aa-d4de-4e47-b48d-b6dfd3f477c1",
   "metadata": {},
   "outputs": [
    {
     "name": "stdout",
     "output_type": "stream",
     "text": [
      "2\n",
      "4\n",
      "6\n",
      "8\n"
     ]
    }
   ],
   "source": [
    "#What is an iterator in python? Name the method used to initialise the iterator object and the method used for iteration.\n",
    "#Use these methods to print the first five elements of the given list [2, 4, 6, 8, 10, 12, 14,16, 18, 20].\n",
    "\n",
    "'''iterator helps to go to every element in the list, string, dictionary or tuple and work on those elements individually\n",
    "iter() function is used to initialize an interator object.\n",
    "To iterate over the elements using the iterator object, next() function is used. The next() function retrieves the next element from the iterator.'''\n",
    "\n",
    "list=[2, 4, 6, 8, 10, 12, 14, 16, 18, 20]\n",
    "s=iter(list)\n",
    "print(next(s))\n",
    "print(next(s))\n",
    "print(next(s))\n",
    "print(next(s))"
   ]
  },
  {
   "cell_type": "code",
   "execution_count": null,
   "id": "69a888bf-188d-4ed6-a331-269ef692b219",
   "metadata": {},
   "outputs": [],
   "source": []
  },
  {
   "cell_type": "code",
   "execution_count": 38,
   "id": "2ed25960-c184-4115-b0a8-61bf3e1af5d8",
   "metadata": {},
   "outputs": [
    {
     "name": "stdout",
     "output_type": "stream",
     "text": [
      "1\n",
      "3\n",
      "5\n",
      "7\n",
      "9\n",
      "11\n",
      "13\n",
      "15\n",
      "17\n",
      "19\n"
     ]
    }
   ],
   "source": [
    "#What is a generator function in python? Why yield keyword is used? Give an example of a generator function.\n",
    "\n",
    "'''In Python, a generator function is a special type of function that generates a sequence of values on-the-fly, allowing iteration\n",
    "over large or infinite sequences. It uses the yield keyword instead of return to produce a series of values, pausing and resuming execution \n",
    "each time a value is requested. Generator functions are memory-efficient and provide a convenient way to generate values without storing them\n",
    "all in memory at once.\n",
    "\n",
    "The yield keyword is used in generator functions to define a point at which the function should pause and \"yield\" a value to the caller.\n",
    "When the function encounters a yield statement, it temporarily suspends execution and returns the yielded value. The function's state is saved,\n",
    "allowing it to be resumed from where it left off when the next value is requested. This is different from a regular function that returns a \n",
    "value and terminates.'''\n",
    "\n",
    "def odd(n):\n",
    "    a=0\n",
    "    for i in range(n):\n",
    "        a=a+1\n",
    "        if a%2!=0:\n",
    "            yield a   \n",
    "for i in odd(20):\n",
    "    print(i)"
   ]
  },
  {
   "cell_type": "code",
   "execution_count": null,
   "id": "083e2204-972b-4e63-8d3b-7857b8d13264",
   "metadata": {},
   "outputs": [],
   "source": []
  },
  {
   "cell_type": "code",
   "execution_count": null,
   "id": "6b2d72de-d875-4484-b45d-e6065394942b",
   "metadata": {},
   "outputs": [],
   "source": []
  },
  {
   "cell_type": "code",
   "execution_count": 2,
   "id": "c6833788-e9c8-490c-b3e4-6d4c72069d2d",
   "metadata": {},
   "outputs": [
    {
     "name": "stdout",
     "output_type": "stream",
     "text": [
      "2 3 7 11 13 17 19 23 29 31 37 41 43 47 53 59 61 67 71 73 79 83 89 97 101 103 107 109 113 127 131 137 139 149 151 157 163 167 173 179 181 191 193 197 199 211 223 227 229 233 239 241 251 257 263 269 271 277 281 283 293 307 311 313 317 331 337 347 349 353 359 367 373 379 383 389 397 401 409 419 421 431 433 439 443 449 457 461 463 467 479 487 491 499 503 509 521 523 541 547 557 563 569 571 577 587 593 599 601 607 613 617 619 631 641 643 647 653 659 661 673 677 683 691 701 709 719 727 733 739 743 751 757 761 769 773 787 797 809 811 821 823 827 829 839 853 857 859 863 877 881 883 887 907 911 919 929 937 941 947 953 967 971 977 983 991 997 "
     ]
    }
   ],
   "source": [
    "#Create a generator function for prime numbers less than 1000. Use the next() method to print the first 20 prime numbers.\n",
    "\n",
    "def prime(n):\n",
    "    for i in range(4,n):\n",
    "        flag=False\n",
    "        for j in range(2,int(i/2)):\n",
    "            if i%j==0:\n",
    "                flag=False\n",
    "                break\n",
    "            else:\n",
    "                flag=True\n",
    "        if flag==True:\n",
    "            yield i\n",
    "print(\"2\",end=' ')\n",
    "print(\"3\",end=' ')\n",
    "for k in prime(1000):\n",
    "    print(k,end=' ')\n",
    "    "
   ]
  },
  {
   "cell_type": "code",
   "execution_count": null,
   "id": "bdc57b89-d0f6-4423-8f25-d0ec1c66b368",
   "metadata": {},
   "outputs": [],
   "source": []
  },
  {
   "cell_type": "code",
   "execution_count": 51,
   "id": "21a690f1-0f94-41e4-b943-3e3b87159b4e",
   "metadata": {},
   "outputs": [
    {
     "name": "stdout",
     "output_type": "stream",
     "text": [
      "0\n",
      "1\n",
      "1\n",
      "2\n",
      "3\n",
      "5\n",
      "8\n",
      "13\n",
      "21\n",
      "34\n",
      "55\n"
     ]
    }
   ],
   "source": [
    "#Write a python program to print the first 10 Fibonacci numbers using a while loop.\n",
    "\n",
    "def fib(n):\n",
    "    a,b=0,1\n",
    "    n=0\n",
    "    while(n<11):\n",
    "        yield a\n",
    "        a,b=b,a+b\n",
    "        n=n+1\n",
    "for i in fib(10):\n",
    "    print(i)"
   ]
  },
  {
   "cell_type": "code",
   "execution_count": null,
   "id": "95151f37-3b0a-43b9-a37c-df45e84d766c",
   "metadata": {},
   "outputs": [],
   "source": []
  },
  {
   "cell_type": "code",
   "execution_count": null,
   "id": "5c4cd80f-4dfa-4063-a82e-f6d5c3b3c1d4",
   "metadata": {},
   "outputs": [],
   "source": [
    "#Write a List Comprehension to iterate through the given string: ‘pwskills’. Expected output: ['p', 'w', 's', 'k', 'i', 'l', 'l', 's']\n",
    "\n",
    "s='pwskills'\n",
    "ss=iter(s)\n",
    "l=[]\n",
    "for i in s:\n",
    "    l.append(i)\n",
    "print(l)"
   ]
  },
  {
   "cell_type": "code",
   "execution_count": null,
   "id": "c2222629-eb3c-45bb-827e-b1d3b3135155",
   "metadata": {},
   "outputs": [],
   "source": []
  },
  {
   "cell_type": "code",
   "execution_count": 2,
   "id": "97dc864c-7dc9-4837-9096-17f9d2986f01",
   "metadata": {},
   "outputs": [
    {
     "data": {
      "text/plain": [
       "'Pallindrome'"
      ]
     },
     "execution_count": 2,
     "metadata": {},
     "output_type": "execute_result"
    }
   ],
   "source": [
    "#Write a python program to check whether a given number is Palindrome or not using a while loop.\n",
    "\n",
    "def pallindrome(n):\n",
    "    n=str(n)\n",
    "    flag=False\n",
    "    l=len(n)\n",
    "    a=0\n",
    "    while(a<l):\n",
    "        if(n[a]==n[l-a-1]):\n",
    "            flag=True\n",
    "        else:\n",
    "            flag=False\n",
    "            break\n",
    "        a=a+1\n",
    "    if flag==True:\n",
    "        return (\"Pallindrome\")\n",
    "    else:\n",
    "        return (\"Not palindrome\")\n",
    "pallindrome(1221)\n"
   ]
  },
  {
   "cell_type": "code",
   "execution_count": null,
   "id": "99631a52-9d40-4dc1-ac42-19ebe2a9575f",
   "metadata": {},
   "outputs": [],
   "source": []
  },
  {
   "cell_type": "code",
   "execution_count": 5,
   "id": "6abf7079-6a9a-49b4-ab55-f759f9b86b4f",
   "metadata": {},
   "outputs": [
    {
     "name": "stdout",
     "output_type": "stream",
     "text": [
      "[1, 3, 5, 7, 9, 11, 13, 15, 17, 19, 21, 23, 25, 27, 29, 31, 33, 35, 37, 39, 41, 43, 45, 47, 49, 51, 53, 55, 57, 59, 61, 63, 65, 67, 69, 71, 73, 75, 77, 79, 81, 83, 85, 87, 89, 91, 93, 95, 97, 99]\n"
     ]
    }
   ],
   "source": [
    "#Write a code to print odd numbers from 1 to 100 using list comprehension.\n",
    "odd= [num for num in range(1, 101) if num % 2 != 0]\n",
    "print(odd)\n"
   ]
  },
  {
   "cell_type": "code",
   "execution_count": null,
   "id": "e267f150-a84f-4a42-a449-411c8f63f890",
   "metadata": {},
   "outputs": [],
   "source": []
  }
 ],
 "metadata": {
  "kernelspec": {
   "display_name": "Python 3 (ipykernel)",
   "language": "python",
   "name": "python3"
  },
  "language_info": {
   "codemirror_mode": {
    "name": "ipython",
    "version": 3
   },
   "file_extension": ".py",
   "mimetype": "text/x-python",
   "name": "python",
   "nbconvert_exporter": "python",
   "pygments_lexer": "ipython3",
   "version": "3.10.8"
  }
 },
 "nbformat": 4,
 "nbformat_minor": 5
}
